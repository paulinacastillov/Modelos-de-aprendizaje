{
  "nbformat": 4,
  "nbformat_minor": 0,
  "metadata": {
    "colab": {
      "provenance": [],
      "collapsed_sections": [
        "_MEqOuGfGTE3"
      ]
    },
    "kernelspec": {
      "name": "python3",
      "display_name": "Python 3"
    },
    "language_info": {
      "name": "python"
    }
  },
  "cells": [
    {
      "cell_type": "markdown",
      "source": [
        "# Code Assigment 1\n",
        " \n",
        "---\n",
        "\n",
        "\n",
        "\n",
        "Hecho por: \\\\\n",
        "Paulina Castillo \\\\\n",
        "ancastillov@unal.edu.co\n",
        "\n",
        "---\n",
        "\n"
      ],
      "metadata": {
        "id": "xrWvJ3AD98pA"
      }
    },
    {
      "cell_type": "markdown",
      "source": [
        "## Resumen"
      ],
      "metadata": {
        "id": "_MEqOuGfGTE3"
      }
    },
    {
      "cell_type": "markdown",
      "source": [
        "En este cuaderno resolveremos un  problema de caracterización de datos a partir de una frontera de descición lineal con un vector soporte, siendo esto aprendizaje supervisado. Las etiquetas son binarias, es decir tendremos dos: 1,-1. \n",
        "\n",
        "El algoritmo se entrenará con bases de datos las cuales poseen elementos ya etiquetados. Se usará una proporción de datos en 80/20, donde el 80% será usado para entrenamiento mientras que el 20% será de testeo,esto se hará a partir de la librería Sklearn con la función  train_test_split usando la semilla 159. Los parámetros usados son los siguientes: \n",
        "\n",
        "* **Matriz $X$ de vectores:** Esta es la matriz que alamacena los datos, sin etiqueta. Esta es de tamaño $m \\times n $ donde $m$ es el número de datos y $n$ su dimensión\n",
        "\n",
        "\n",
        "\\begin{align}\n",
        "X = \\left[\\begin{array}\\\n",
        "x_1  \\\\\n",
        "x_2 \\\\ \n",
        "\\vdots \\\\\n",
        "x_m\n",
        "\\end{array}  \\right] x_i = [x_{i1}, x_{i2}, \\cdots, x_{in}]\n",
        "\\end{align}\n",
        "\n",
        "* **Vector $y$ de clasificación:** Es el vector donde se alamacenan las etiquetas de los vectores $x_i$ de la matriz X. $y$ es de mañano $m \\times 1$ \n",
        "\n",
        "\\begin{align}\n",
        "y = \\left[\\begin{array}\\\n",
        "\\sigma_1  \\\\\n",
        "\\sigma_2 \\\\ \n",
        "\\vdots \\\\\n",
        "\\sigma_m\n",
        "\\end{array}\\right] \\sigma_i \\in [1,-1]\n",
        "\\end{align}\n",
        "\n",
        "\n"
      ],
      "metadata": {
        "id": "FjgE2xSA-Xv_"
      }
    },
    {
      "cell_type": "markdown",
      "source": [
        "## Código"
      ],
      "metadata": {
        "id": "T7S3fDBOGX7v"
      }
    },
    {
      "cell_type": "markdown",
      "source": [
        "Primero importamos las librerías necesarias"
      ],
      "metadata": {
        "id": "gzRuiWLTGgFx"
      }
    },
    {
      "cell_type": "code",
      "source": [
        "import pandas as pd\n",
        "import numpy as np"
      ],
      "metadata": {
        "id": "ORrB0H3cH3Pq"
      },
      "execution_count": null,
      "outputs": []
    },
    {
      "cell_type": "markdown",
      "source": [
        "Consideremos la siguiente regularización: \n",
        "\n",
        "\\begin{aligned}\n",
        "& J=\\lambda\\|w\\|^2+\\frac{1}{n} \\sum_{i=1}^n \\max \\left(0,1-y_i\\left(w \\cdot x_i-b\\right)\\right) \\\\\n",
        "\\end{aligned}\n",
        "\n",
        "Es decir, se tienen estos dos casos:\n",
        "\n",
        "\\begin{aligned}\n",
        "& J_i=\\lambda\\|w\\|^2 &&\n",
        "& J_i=\\lambda\\|w\\|^2+1-y_i\\left(w \\cdot x_i-b\\right)\n",
        "\\end{aligned}\n",
        "\n",
        "el primero si se tiene la condición \n",
        "\n",
        "\\begin{aligned}\n",
        "  y_i \\cdot f(x) \\geq 1 \n",
        " \\end{aligned}\n",
        " y el segundo en caso contrario.\n",
        "\n",
        "Dado que es claro que $J_i$ es convexa dado que es suma de cosas convexas podemos hallar su gradiente, dependiendo si se cumple la condición mencionanda anteriormente:\n",
        "\n",
        "\\begin{array}{ll}\n",
        "\\frac{d J_i}{d w_k}=2 \\lambda w_k & \\frac{d J_i}{d b}=0 \\\\\n",
        "\\text { else: } & \\\\\n",
        "\\frac{d J_i}{d w_k}=2 \\lambda w_k-y_i \\cdot x_{i k} & \\frac{d J_i}{d b}=y_i\n",
        "\\end{array}\n",
        "\n",
        "Así al hacer la actualización de $w$ y de $b$ en cada iteración se tiene \n",
        "\n",
        "\n",
        "$$\n",
        "\\begin{aligned}\n",
        "w & =w-\\alpha \\cdot d w=w-\\alpha \\cdot2 \\lambda w \\\\\n",
        "b & =b-\\alpha \\cdot d b=b\n",
        "\\end{aligned}\n",
        "$$\n",
        "\n",
        "en caso de cumplir la condición o \n",
        "\n",
        "$$\n",
        "\\begin{aligned}\n",
        "w & =w-\\alpha \\cdot d w=w-\\alpha \\cdot\\left(2 \\lambda w-y_i \\cdot x_i\\right) \\\\\n",
        "b & =b-\\alpha \\cdot d b=b-\\alpha \\cdot y_i\n",
        "\\end{aligned}\n",
        "$$\n",
        "\n"
      ],
      "metadata": {
        "id": "PHkLTFpMQdmC"
      }
    },
    {
      "cell_type": "code",
      "source": [
        "class SVM:\n",
        "\n",
        "    def __init__(self, learning_rate=0.001, lambda_param=0.01, n_iters=1000):\n",
        "\n",
        "        self.lr = learning_rate # Qué tan rapido aprenderá el algoritmo\n",
        "        self.lambda_param = lambda_param # Nos dice que tan importante es la norma de W en cuanto a la optimización del problema\n",
        "        self.n_iters = n_iters #número máx de iteraciones\n",
        "        self.w = None\n",
        "        self.b = None\n",
        "\n",
        "    def fit(self, X, y):\n",
        "        n_samples = len(X)\n",
        "        n_features = len(X[0]) # número vectores y su dimensión\n",
        "\n",
        "        y_ = np.where(y <= 0, -1, 1) # cambia las etiquetas 0 a -1\n",
        "\n",
        "        #Valores inciales de W y b\n",
        "        self.w = np.zeros(n_features) \n",
        "        self.b = 0\n",
        "        #print('ok3')\n",
        "\n",
        "        for _ in range(self.n_iters):\n",
        "            for idx, x_i in enumerate(X):\n",
        "\n",
        "                condition = y_[idx] * (np.dot(x_i, self.w) - self.b) >= 1\n",
        "                \n",
        "                #aplicamos la actualización mencionada anteriormente\n",
        "                if condition:\n",
        "                    self.w -= self.lr * (2 * self.lambda_param * self.w)\n",
        "                else:\n",
        "                    self.w -= self.lr * (2 * self.lambda_param * self.w - np.dot(x_i, y_[idx]))\n",
        "                    self.b -= self.lr * y_[idx]\n",
        "\n",
        "      \n",
        "\n",
        "    def predict(self, X):\n",
        "        approx = np.dot(X, self.w) - self.b\n",
        "        return np.sign(approx)\n",
        "    \n",
        "\n"
      ],
      "metadata": {
        "id": "zt3ZSuIa4M0F"
      },
      "execution_count": null,
      "outputs": []
    },
    {
      "cell_type": "markdown",
      "source": [
        "Definimos tambien nuestra función de error e importamos train_test_split que nos permitirá separar valores de la base de datos para entreno y para prueba. Este toma parámetros X, y, tamaño de testeo, semilla. Para poder asegurarnos de tomar el mejor resultado vamos a iterar en estas semillas a modo de minimizar el error."
      ],
      "metadata": {
        "id": "97OgiY1fOOnX"
      }
    },
    {
      "cell_type": "code",
      "source": [
        "# Testing\n",
        "\n",
        "from sklearn.model_selection import train_test_split\n",
        "from sklearn import datasets\n",
        "import matplotlib.pyplot as plt\n",
        "\n",
        "def accuracy(y_true, y_pred):\n",
        "  etiqueta_1 = 0.0 # Va a contar el número de valores mal etiquetados con valor real 1\n",
        "  etiqueta_2 = 0.0 # Va a contar el número de valores mal etiquetados con valor real -1\n",
        "  for i in range(len(y_true)):\n",
        "    if y_true[i] != y_pred[i]:\n",
        "      if y_true[i] == 1:\n",
        "        etiqueta_1 +=1\n",
        "      elif y_true[i] == -1:\n",
        "        etiqueta_2 +=1\n",
        "  error_total = etiqueta_1 + etiqueta_2 # total de errores cometidos\n",
        "  accuracy = np.sum(y_true == y_pred) / len(y_true) # cuenta total de aciertod sobre el total de datos, buscamos sea cercano a 1\n",
        "  return {'Acierto: ':accuracy, 'Error relativo etiqueta 1 :':etiqueta_1/error_total,\n",
        "          'Error relativo  etiqueta -1 :':etiqueta_2/error_total,\n",
        "          'Error neto etiqueta 1 :':etiqueta_1,\n",
        "          'Error neto etiqueta -1 :':etiqueta_2,} \n",
        "  # retorna el error total de etiquetado, el porcentaje de error de etiqueta 1 y el de etiqueta -1\n",
        "\n",
        "\n"
      ],
      "metadata": {
        "id": "4jpBif-j2MHI"
      },
      "execution_count": null,
      "outputs": []
    },
    {
      "cell_type": "code",
      "source": [
        "def visualize_svm(clf,X,y,test):\n",
        "\n",
        "\n",
        "        def get_hyperplane_value(x, w, b, offset):\n",
        "            return (-w[0] * x + b + offset) / w[1]\n",
        "        #crea canvas\n",
        "        fig = plt.figure()\n",
        "        ax = fig.add_subplot(1, 1, 1)\n",
        "        X = pd.DataFrame(X)\n",
        "        test = pd.DataFrame(test)\n",
        "        plt.scatter(test.iloc[:, 0], test.iloc[:, 1], marker=\"o\", c='orange')\n",
        "        plt.scatter(X.iloc[:, 0], X.iloc[:, 1], marker=\"o\", c=y)\n",
        "\n",
        "        \n",
        "        x0_1 = min(np.amin(X.iloc[:, 0]), np.amin(test.iloc[:, 0]))-3\n",
        "        x0_2 = max(np.amax(X.iloc[:, 0]), np.amax(test.iloc[:, 0]))+3\n",
        "\n",
        "\n",
        "        x1_1 = get_hyperplane_value(x0_1, clf.w, clf.b, 0)\n",
        "        x1_2 = get_hyperplane_value(x0_2, clf.w, clf.b, 0)\n",
        "\n",
        "        x1_1_m = get_hyperplane_value(x0_1, clf.w, clf.b, -1)\n",
        "        x1_2_m = get_hyperplane_value(x0_2, clf.w, clf.b, -1)\n",
        "\n",
        "        x1_1_p = get_hyperplane_value(x0_1, clf.w, clf.b, 1)\n",
        "        x1_2_p = get_hyperplane_value(x0_2, clf.w, clf.b, 1)\n",
        "\n",
        "        ax.plot([x0_1, x0_2], [x1_1, x1_2], \"y--\")\n",
        "        ax.plot([x0_1, x0_2], [x1_1_m, x1_2_m], \"k\")\n",
        "        ax.plot([x0_1, x0_2], [x1_1_p, x1_2_p], \"k\")\n",
        "\n",
        "        x1_min = np.amin(X.iloc[:, 1])\n",
        "        x1_max = np.amax(X.iloc[:, 1])\n",
        "        #ax.set_ylim([x1_min - 3, x1_max + 3])\n",
        "\n",
        "        plt.show()\n",
        "        \n"
      ],
      "metadata": {
        "id": "TbLz9H21GDuO"
      },
      "execution_count": null,
      "outputs": []
    },
    {
      "cell_type": "markdown",
      "source": [
        "## Ejemplo de funcionamiento\n",
        "\n"
      ],
      "metadata": {
        "id": "FGAFRfvfbMlW"
      }
    },
    {
      "cell_type": "markdown",
      "source": [
        "Vamos a crear un ejemplo pequeño en 2d "
      ],
      "metadata": {
        "id": "ALP9k2tcX-I-"
      }
    },
    {
      "cell_type": "code",
      "source": [
        "import pandas as pd\n",
        "\n",
        "\n",
        "X = pd.DataFrame(data=None,index=None, columns=['x1','x2','Etiqueta'])\n",
        "\n",
        "X.loc[X.shape[0]] = [1, 7,1]\n",
        "X.loc[X.shape[0]] = [2, 8,1]\n",
        "X.loc[X.shape[0]] = [3, 8,1]\n",
        "X.loc[X.shape[0]] = [5,1,0]\n",
        "X.loc[X.shape[0]] = [6,-1,0]\n",
        "X.loc[X.shape[0]] = [7,3,0]\n",
        "\n",
        "y = X['Etiqueta']\n",
        "X_train = X.copy(deep=True)\n",
        "X_train.columns = range(3)\n",
        "\n",
        "\n",
        "X_train = X_train.drop(2,axis=1)\n",
        "X_train = [X_train.loc[i].tolist() for i in X.index]\n",
        "X_train\n"
      ],
      "metadata": {
        "colab": {
          "base_uri": "https://localhost:8080/"
        },
        "id": "C_jPrInY7Gm-",
        "outputId": "03ae4a33-7f9a-446b-edcc-9a71aca23ff4"
      },
      "execution_count": null,
      "outputs": [
        {
          "output_type": "execute_result",
          "data": {
            "text/plain": [
              "[[1, 7], [2, 8], [3, 8], [5, 1], [6, -1], [7, 3]]"
            ]
          },
          "metadata": {},
          "execution_count": 5
        }
      ]
    },
    {
      "cell_type": "code",
      "source": [
        "prueba = SVM()\n",
        "prueba.fit(X_train, y) #check\n",
        "X_train= pd.DataFrame(X_train)\n",
        "testing = [[0,8],[5,-5]] # Datos para ver que tan bien le va al algoritmo\n"
      ],
      "metadata": {
        "id": "p3wrM90ZLu2q"
      },
      "execution_count": null,
      "outputs": []
    },
    {
      "cell_type": "code",
      "source": [
        "visualize_svm(prueba,X_train,y,testing)"
      ],
      "metadata": {
        "colab": {
          "base_uri": "https://localhost:8080/"
        },
        "id": "DLExrNPJYWQH",
        "outputId": "45a7d6de-a5ac-4a0a-e4eb-2cb95fb717b4"
      },
      "execution_count": null,
      "outputs": [
        {
          "output_type": "display_data",
          "data": {
            "text/plain": [
              "<Figure size 432x288 with 1 Axes>"
            ],
            "image/png": "[encoded data removed]"
          },
          "metadata": {
            "needs_background": "light"
          }
        }
      ]
    },
    {
      "cell_type": "code",
      "source": [
        "prueba.predict(testing)"
      ],
      "metadata": {
        "colab": {
          "base_uri": "https://localhost:8080/"
        },
        "id": "pXtJArlXbWfS",
        "outputId": "69c2efa5-f9a5-433a-8471-bd677351a7ea"
      },
      "execution_count": null,
      "outputs": [
        {
          "output_type": "execute_result",
          "data": {
            "text/plain": [
              "array([ 1., -1.])"
            ]
          },
          "metadata": {},
          "execution_count": 8
        }
      ]
    },
    {
      "cell_type": "markdown",
      "source": [
        "Vemos que claramente los etiquetó de manera satisfactoria"
      ],
      "metadata": {
        "id": "0FYG2DN3bigf"
      }
    },
    {
      "cell_type": "markdown",
      "source": [
        "## Bases de datos"
      ],
      "metadata": {
        "id": "9hj2RICsWQCn"
      }
    },
    {
      "cell_type": "markdown",
      "source": [
        "Importaremos primero la base de datos de la pág [Machine learning repository](https://archive.ics.uci.edu/ml/datasets/banknote+authentication) la cual hace la diferencia entre papel moneda verdadero y falso. se tomaron en cuenta los siguientes parámetros:\n",
        "\n",
        "1. Varianza de la imagen Wavelet transformada (continua)\n",
        "2. Asimetría de la imagen Wavelet transformada (continua)\n",
        "3. Curtosis de la imagen Wavelet Transformada (continua)\n",
        "4. Entropía de la imagen (continua)\n",
        "\n",
        "que corresponden a las columnas $0,1,2,3$ respectivamente y la columna $4$ que corresponde a la etiqueta de verdadero o falso."
      ],
      "metadata": {
        "id": "sxwT_pp4KKPN"
      }
    },
    {
      "cell_type": "code",
      "source": [
        "data = pd.read_csv(r'/content/sample_data/data_banknote_authentication.txt', sep=',', header=None) \n",
        "data"
      ],
      "metadata": {
        "id": "gVhEjtlg4H8V",
        "colab": {
          "base_uri": "https://localhost:8080/",
          "height": 423
        },
        "outputId": "d269cd3e-5061-40f6-b7e6-a5525b8e63c8"
      },
      "execution_count": null,
      "outputs": [
        {
          "output_type": "execute_result",
          "data": {
            "text/plain": [
              "            0         1        2        3  4\n",
              "0     3.62160   8.66610  -2.8073 -0.44699  0\n",
              "1     4.54590   8.16740  -2.4586 -1.46210  0\n",
              "2     3.86600  -2.63830   1.9242  0.10645  0\n",
              "3     3.45660   9.52280  -4.0112 -3.59440  0\n",
              "4     0.32924  -4.45520   4.5718 -0.98880  0\n",
              "...       ...       ...      ...      ... ..\n",
              "1367  0.40614   1.34920  -1.4501 -0.55949  1\n",
              "1368 -1.38870  -4.87730   6.4774  0.34179  1\n",
              "1369 -3.75030 -13.45860  17.5932 -2.77710  1\n",
              "1370 -3.56370  -8.38270  12.3930 -1.28230  1\n",
              "1371 -2.54190  -0.65804   2.6842  1.19520  1\n",
              "\n",
              "[1372 rows x 5 columns]"
            ],
            "text/html": [
              "\n",
              "  <div id=\"df-d669a391-f7e8-48ea-9872-8c60ed6e67b5\">\n",
              "    <div class=\"colab-df-container\">\n",
              "      <div>\n",
              "<style scoped>\n",
              "    .dataframe tbody tr th:only-of-type {\n",
              "        vertical-align: middle;\n",
              "    }\n",
              "\n",
              "    .dataframe tbody tr th {\n",
              "        vertical-align: top;\n",
              "    }\n",
              "\n",
              "    .dataframe thead th {\n",
              "        text-align: right;\n",
              "    }\n",
              "</style>\n",
              "<table border=\"1\" class=\"dataframe\">\n",
              "  <thead>\n",
              "    <tr style=\"text-align: right;\">\n",
              "      <th></th>\n",
              "      <th>0</th>\n",
              "      <th>1</th>\n",
              "      <th>2</th>\n",
              "      <th>3</th>\n",
              "      <th>4</th>\n",
              "    </tr>\n",
              "  </thead>\n",
              "  <tbody>\n",
              "    <tr>\n",
              "      <th>0</th>\n",
              "      <td>3.62160</td>\n",
              "      <td>8.66610</td>\n",
              "      <td>-2.8073</td>\n",
              "      <td>-0.44699</td>\n",
              "      <td>0</td>\n",
              "    </tr>\n",
              "    <tr>\n",
              "      <th>1</th>\n",
              "      <td>4.54590</td>\n",
              "      <td>8.16740</td>\n",
              "      <td>-2.4586</td>\n",
              "      <td>-1.46210</td>\n",
              "      <td>0</td>\n",
              "    </tr>\n",
              "    <tr>\n",
              "      <th>2</th>\n",
              "      <td>3.86600</td>\n",
              "      <td>-2.63830</td>\n",
              "      <td>1.9242</td>\n",
              "      <td>0.10645</td>\n",
              "      <td>0</td>\n",
              "    </tr>\n",
              "    <tr>\n",
              "      <th>3</th>\n",
              "      <td>3.45660</td>\n",
              "      <td>9.52280</td>\n",
              "      <td>-4.0112</td>\n",
              "      <td>-3.59440</td>\n",
              "      <td>0</td>\n",
              "    </tr>\n",
              "    <tr>\n",
              "      <th>4</th>\n",
              "      <td>0.32924</td>\n",
              "      <td>-4.45520</td>\n",
              "      <td>4.5718</td>\n",
              "      <td>-0.98880</td>\n",
              "      <td>0</td>\n",
              "    </tr>\n",
              "    <tr>\n",
              "      <th>...</th>\n",
              "      <td>...</td>\n",
              "      <td>...</td>\n",
              "      <td>...</td>\n",
              "      <td>...</td>\n",
              "      <td>...</td>\n",
              "    </tr>\n",
              "    <tr>\n",
              "      <th>1367</th>\n",
              "      <td>0.40614</td>\n",
              "      <td>1.34920</td>\n",
              "      <td>-1.4501</td>\n",
              "      <td>-0.55949</td>\n",
              "      <td>1</td>\n",
              "    </tr>\n",
              "    <tr>\n",
              "      <th>1368</th>\n",
              "      <td>-1.38870</td>\n",
              "      <td>-4.87730</td>\n",
              "      <td>6.4774</td>\n",
              "      <td>0.34179</td>\n",
              "      <td>1</td>\n",
              "    </tr>\n",
              "    <tr>\n",
              "      <th>1369</th>\n",
              "      <td>-3.75030</td>\n",
              "      <td>-13.45860</td>\n",
              "      <td>17.5932</td>\n",
              "      <td>-2.77710</td>\n",
              "      <td>1</td>\n",
              "    </tr>\n",
              "    <tr>\n",
              "      <th>1370</th>\n",
              "      <td>-3.56370</td>\n",
              "      <td>-8.38270</td>\n",
              "      <td>12.3930</td>\n",
              "      <td>-1.28230</td>\n",
              "      <td>1</td>\n",
              "    </tr>\n",
              "    <tr>\n",
              "      <th>1371</th>\n",
              "      <td>-2.54190</td>\n",
              "      <td>-0.65804</td>\n",
              "      <td>2.6842</td>\n",
              "      <td>1.19520</td>\n",
              "      <td>1</td>\n",
              "    </tr>\n",
              "  </tbody>\n",
              "</table>\n",
              "<p>1372 rows × 5 columns</p>\n",
              "</div>\n",
              "      <button class=\"colab-df-convert\" onclick=\"convertToInteractive('df-d669a391-f7e8-48ea-9872-8c60ed6e67b5')\"\n",
              "              title=\"Convert this dataframe to an interactive table.\"\n",
              "              style=\"display:none;\">\n",
              "        \n",
              "  <svg xmlns=\"http://www.w3.org/2000/svg\" height=\"24px\"viewBox=\"0 0 24 24\"\n",
              "       width=\"24px\">\n",
              "    <path d=\"M0 0h24v24H0V0z\" fill=\"none\"/>\n",
              "    <path d=\"M18.56 5.44l.94 2.06.94-2.06 2.06-.94-2.06-.94-.94-2.06-.94 2.06-2.06.94zm-11 1L8.5 8.5l.94-2.06 2.06-.94-2.06-.94L8.5 2.5l-.94 2.06-2.06.94zm10 10l.94 2.06.94-2.06 2.06-.94-2.06-.94-.94-2.06-.94 2.06-2.06.94z\"/><path d=\"M17.41 7.96l-1.37-1.37c-.4-.4-.92-.59-1.43-.59-.52 0-1.04.2-1.43.59L10.3 9.45l-7.72 7.72c-.78.78-.78 2.05 0 2.83L4 21.41c.39.39.9.59 1.41.59.51 0 1.02-.2 1.41-.59l7.78-7.78 2.81-2.81c.8-.78.8-2.07 0-2.86zM5.41 20L4 18.59l7.72-7.72 1.47 1.35L5.41 20z\"/>\n",
              "  </svg>\n",
              "      </button>\n",
              "      \n",
              "  <style>\n",
              "    .colab-df-container {\n",
              "      display:flex;\n",
              "      flex-wrap:wrap;\n",
              "      gap: 12px;\n",
              "    }\n",
              "\n",
              "    .colab-df-convert {\n",
              "      background-color: #E8F0FE;\n",
              "      border: none;\n",
              "      border-radius: 50%;\n",
              "      cursor: pointer;\n",
              "      display: none;\n",
              "      fill: #1967D2;\n",
              "      height: 32px;\n",
              "      padding: 0 0 0 0;\n",
              "      width: 32px;\n",
              "    }\n",
              "\n",
              "    .colab-df-convert:hover {\n",
              "      background-color: #E2EBFA;\n",
              "      box-shadow: 0px 1px 2px rgba(60, 64, 67, 0.3), 0px 1px 3px 1px rgba(60, 64, 67, 0.15);\n",
              "      fill: #174EA6;\n",
              "    }\n",
              "\n",
              "    [theme=dark] .colab-df-convert {\n",
              "      background-color: #3B4455;\n",
              "      fill: #D2E3FC;\n",
              "    }\n",
              "\n",
              "    [theme=dark] .colab-df-convert:hover {\n",
              "      background-color: #434B5C;\n",
              "      box-shadow: 0px 1px 3px 1px rgba(0, 0, 0, 0.15);\n",
              "      filter: drop-shadow(0px 1px 2px rgba(0, 0, 0, 0.3));\n",
              "      fill: #FFFFFF;\n",
              "    }\n",
              "  </style>\n",
              "\n",
              "      <script>\n",
              "        const buttonEl =\n",
              "          document.querySelector('#df-d669a391-f7e8-48ea-9872-8c60ed6e67b5 button.colab-df-convert');\n",
              "        buttonEl.style.display =\n",
              "          google.colab.kernel.accessAllowed ? 'block' : 'none';\n",
              "\n",
              "        async function convertToInteractive(key) {\n",
              "          const element = document.querySelector('#df-d669a391-f7e8-48ea-9872-8c60ed6e67b5');\n",
              "          const dataTable =\n",
              "            await google.colab.kernel.invokeFunction('convertToInteractive',\n",
              "                                                     [key], {});\n",
              "          if (!dataTable) return;\n",
              "\n",
              "          const docLinkHtml = 'Like what you see? Visit the ' +\n",
              "            '<a target=\"_blank\" href=https://colab.research.google.com/notebooks/data_table.ipynb>data table notebook</a>'\n",
              "            + ' to learn more about interactive tables.';\n",
              "          element.innerHTML = '';\n",
              "          dataTable['output_type'] = 'display_data';\n",
              "          await google.colab.output.renderOutput(dataTable, element);\n",
              "          const docLink = document.createElement('div');\n",
              "          docLink.innerHTML = docLinkHtml;\n",
              "          element.appendChild(docLink);\n",
              "        }\n",
              "      </script>\n",
              "    </div>\n",
              "  </div>\n",
              "  "
            ]
          },
          "metadata": {},
          "execution_count": 9
        }
      ]
    },
    {
      "cell_type": "markdown",
      "source": [
        "#### SVM"
      ],
      "metadata": {
        "id": "tSZNJCcmkvgb"
      }
    },
    {
      "cell_type": "markdown",
      "source": [
        "Veamos el volumen de etiquetas en a base de datos:"
      ],
      "metadata": {
        "id": "0TX9OsjVaWtG"
      }
    },
    {
      "cell_type": "code",
      "source": [
        "total_valores = data.shape[0]\n",
        "etiq_0 = data[data[4]==0].shape[0]\n",
        "etiq_1 = data[data[4]==1].shape[0]\n",
        "porcentaje_0 = etiq_0/total_valores\n",
        "porcentaje_1 = etiq_1/total_valores\n",
        "print(porcentaje_0,porcentaje_1)"
      ],
      "metadata": {
        "colab": {
          "base_uri": "https://localhost:8080/"
        },
        "id": "F_4_V-wtZ9SN",
        "outputId": "7de83234-8f28-4048-8a8d-55099674868d"
      },
      "execution_count": null,
      "outputs": [
        {
          "output_type": "stream",
          "name": "stdout",
          "text": [
            "0.5553935860058309 0.4446064139941691\n"
          ]
        }
      ]
    },
    {
      "cell_type": "markdown",
      "source": [
        "Vemos un volumen ligeramente mayor a los valores etiquetados con 0. Estos con serán posteriormete etiquetados como -1 a fin de mejor funcionamiento del algoritmo."
      ],
      "metadata": {
        "id": "4lOOPAHWan_d"
      }
    },
    {
      "cell_type": "markdown",
      "source": [
        "Definimos los vectores $X$, y $y$:"
      ],
      "metadata": {
        "id": "A7gJ4nB6LvfU"
      }
    },
    {
      "cell_type": "code",
      "source": [
        "y = data[4] # la ultima columna \n",
        "y = np.where(y <= 0, -1, 1) #se cambia la etiqueta 0 por -1 para poder aplicar el algoritmo\n",
        "data.drop(columns = [4], inplace=True) # retiramos la columna de etiquetas\n",
        "X = data\n",
        "X = [X.loc[i].tolist() for i in X.index]\n"
      ],
      "metadata": {
        "id": "CrOMVLwzEo-K"
      },
      "execution_count": null,
      "outputs": []
    },
    {
      "cell_type": "code",
      "source": [
        "X_train, X_test, y_train, y_test = train_test_split(X,y, test_size = 0.2, random_state= 159)  #semilla arbotraria 1543 159"
      ],
      "metadata": {
        "id": "RdwlQxt5f4PJ"
      },
      "execution_count": null,
      "outputs": []
    },
    {
      "cell_type": "code",
      "source": [
        "clf = SVM()\n",
        "clf.fit(X_train, y_train) #check\n",
        "predictions = clf.predict(X_test) \n",
        "\n",
        "accuracy(y_test, predictions)"
      ],
      "metadata": {
        "colab": {
          "base_uri": "https://localhost:8080/"
        },
        "id": "OEJXFcle-BsU",
        "outputId": "15171e66-b0c6-4254-d00c-c50b80900cec"
      },
      "execution_count": null,
      "outputs": [
        {
          "output_type": "execute_result",
          "data": {
            "text/plain": [
              "{'Acierto: ': 0.9781818181818182,\n",
              " 'Error relativo etiqueta 1 :': 0.16666666666666666,\n",
              " 'Error relativo  etiqueta -1 :': 0.8333333333333334,\n",
              " 'Error neto etiqueta 1 :': 1.0,\n",
              " 'Error neto etiqueta -1 :': 5.0}"
            ]
          },
          "metadata": {},
          "execution_count": 13
        }
      ]
    },
    {
      "cell_type": "markdown",
      "source": [
        "Vemos tiene un acierto del 98%, donde el 83% de los errores de clasificación fueron a los valores clasificados con -1."
      ],
      "metadata": {
        "id": "6ielz28RZjqi"
      }
    },
    {
      "cell_type": "markdown",
      "source": [
        "#### Logistic regression"
      ],
      "metadata": {
        "id": "waJ_8loGkekY"
      }
    },
    {
      "cell_type": "markdown",
      "source": [
        "Veamos ahora con el método de logistic regression"
      ],
      "metadata": {
        "id": "c1imz9qgkPGc"
      }
    },
    {
      "cell_type": "code",
      "source": [
        "from sklearn.linear_model import LogisticRegression\n",
        "\n",
        "y_LG = y\n",
        "X_LG = pd.DataFrame(X)\n",
        "X_train_LG, X_test_LG, y_train_LG, y_test_LG = train_test_split(X_LG,y_LG, test_size = 0.2, random_state= 159) \n",
        "clf_LG = LogisticRegression(random_state=0).fit(X_train_LG, y_train_LG)\n",
        "predictions_LG = clf_LG.predict(X_test_LG)\n",
        "accuracy(y_test_LG, predictions_LG)"
      ],
      "metadata": {
        "colab": {
          "base_uri": "https://localhost:8080/"
        },
        "id": "cIBruXV2fXPT",
        "outputId": "7878098f-7879-4436-a58f-8290be4dcf3b"
      },
      "execution_count": null,
      "outputs": [
        {
          "output_type": "execute_result",
          "data": {
            "text/plain": [
              "{'Acierto: ': 0.9927272727272727,\n",
              " 'Error relativo etiqueta 1 :': 1.0,\n",
              " 'Error relativo  etiqueta -1 :': 0.0,\n",
              " 'Error neto etiqueta 1 :': 2.0,\n",
              " 'Error neto etiqueta -1 :': 0.0}"
            ]
          },
          "metadata": {},
          "execution_count": 14
        }
      ]
    },
    {
      "cell_type": "markdown",
      "source": [
        "Este tuvo un 99% de acierto con 2 errores la etiqueta 1."
      ],
      "metadata": {
        "id": "bQRBoK9kjnDf"
      }
    },
    {
      "cell_type": "markdown",
      "source": [
        "#### Desicion Tree"
      ],
      "metadata": {
        "id": "vi6gJmAFki9F"
      }
    },
    {
      "cell_type": "code",
      "source": [
        "from sklearn.tree import DecisionTreeClassifier\n",
        "\n",
        "y_T = y\n",
        "X_T = pd.DataFrame(X)\n",
        "X_train_T, X_test_T, y_train_T, y_test_T = train_test_split(X_T,y_T, test_size = 0.2, random_state= 159) \n",
        "clf_T = DecisionTreeClassifier().fit(X_train_T,y_train_T)\n",
        "predictions_T = clf_T.predict(X_test_T)\n",
        "accuracy(y_test_T, predictions_T)\n"
      ],
      "metadata": {
        "colab": {
          "base_uri": "https://localhost:8080/"
        },
        "id": "0XIrb7-PldF9",
        "outputId": "16cff43c-a4d9-4c7f-98f2-520ef3b65a8c"
      },
      "execution_count": null,
      "outputs": [
        {
          "output_type": "execute_result",
          "data": {
            "text/plain": [
              "{'Acierto: ': 0.9927272727272727,\n",
              " 'Error relativo etiqueta 1 :': 0.5,\n",
              " 'Error relativo  etiqueta -1 :': 0.5,\n",
              " 'Error neto etiqueta 1 :': 1.0,\n",
              " 'Error neto etiqueta -1 :': 1.0}"
            ]
          },
          "metadata": {},
          "execution_count": 15
        }
      ]
    },
    {
      "cell_type": "markdown",
      "source": [
        "### Análisis de resultados"
      ],
      "metadata": {
        "id": "l7OwJ8peXx8f"
      }
    },
    {
      "cell_type": "markdown",
      "source": [
        "\n",
        "\n",
        "Después de realizar el entreno se obtuvoun porcentaje de exito del 98% con SVM mientras que con los otros metodos fue superior al 99%. Podemos inferir que los conjuntos son linealmente separables alegando a la existencia de ruido dentro de la toma de datos. Por otro lado, la escongencia aleatoria podría verse afectada a la proporción de 55-45 de las etiquetas mencionada arriba, por lo que podría esperarse una mejor identificación a la etiqueta 1. Bajo este orden de ideas es razonable el resultado final de SVM, donde el error de identificación a la etiqueta 1 fue de solo del 17% a comparación del 83% de la etiqueta -1. Lo cual implicaría una escogencia no aleatoria. Con los otros dos métodos los errores son despreciables. \n",
        "\n",
        "Con respecto a la generalización, un error menor 2% es una buena cifra considerando lo mencionado anteriormente respecto al ruido en los datos, por lo que puede decirse que el algoritmo estaría en capacidad de clasificar correctamente vectores nuevos."
      ],
      "metadata": {
        "id": "gB13G0lDbhps"
      }
    },
    {
      "cell_type": "markdown",
      "source": [
        "#### Logistic Regression"
      ],
      "metadata": {
        "id": "wnZ3hsghfhtZ"
      }
    },
    {
      "cell_type": "markdown",
      "source": [
        "## Base de datos2"
      ],
      "metadata": {
        "id": "QPxLapC70Qwy"
      }
    },
    {
      "cell_type": "markdown",
      "source": [
        "Importaremos ahora la base de datos de la pág [Machine learning repository](https://archive.ics.uci.edu/ml/datasets/Occupancy+Detection+). Esta base de datos clasifica si un salón está ocupado o no con base a los siguientes  parámetros:\n",
        "\n",
        "1. Fecha, hora, minuto, milisegundo (Discreta)\n",
        "2. Temperatura en Celsius (Continua)\n",
        "3. Humedad relativa en % (Continua)\n",
        "4. Cantidad de luz (Continua)\n",
        "5. CO2, en ppm (Continua)\n",
        "6. Humedad (Continua)\n",
        "que corresponden a las columnas $0,1,2,3,4,5$ respectivamente y la columna $6$ que corresponde a la etiqueta de verdadero o falso."
      ],
      "metadata": {
        "id": "Cp54gAWkci2p"
      }
    },
    {
      "cell_type": "markdown",
      "source": [
        "Importamos la base de datos "
      ],
      "metadata": {
        "id": "UfM0aMQ0O5BL"
      }
    },
    {
      "cell_type": "code",
      "source": [
        "data2 = pd.read_csv(r'/content/sample_data/datatraining.txt',  sep=',')\n",
        "data2.columns = list(range(data2.shape[1]))\n",
        "data2[0] = data2[0].apply(lambda x: int( (pd.to_datetime(x)).strftime(\"%Y%m%d%H%M%S\") ))\n",
        "data2.drop(columns = [0], inplace=True)\n",
        "data2.applymap(lambda x: float(x))\n"
      ],
      "metadata": {
        "id": "LDpXnY_iPuJ3",
        "colab": {
          "base_uri": "https://localhost:8080/",
          "height": 423
        },
        "outputId": "ada3ad3b-f595-464d-9523-965afe99bc20"
      },
      "execution_count": null,
      "outputs": [
        {
          "output_type": "execute_result",
          "data": {
            "text/plain": [
              "          1        2      3           4         5    6\n",
              "1     23.18  27.2720  426.0  721.250000  0.004793  1.0\n",
              "2     23.15  27.2675  429.5  714.000000  0.004783  1.0\n",
              "3     23.15  27.2450  426.0  713.500000  0.004779  1.0\n",
              "4     23.15  27.2000  426.0  708.250000  0.004772  1.0\n",
              "5     23.10  27.2000  426.0  704.500000  0.004757  1.0\n",
              "...     ...      ...    ...         ...       ...  ...\n",
              "8139  21.05  36.0975  433.0  787.250000  0.005579  1.0\n",
              "8140  21.05  35.9950  433.0  789.500000  0.005563  1.0\n",
              "8141  21.10  36.0950  433.0  798.500000  0.005596  1.0\n",
              "8142  21.10  36.2600  433.0  820.333333  0.005621  1.0\n",
              "8143  21.10  36.2000  447.0  821.000000  0.005612  1.0\n",
              "\n",
              "[8143 rows x 6 columns]"
            ],
            "text/html": [
              "\n",
              "  <div id=\"df-3f9f081b-19c4-4c9c-8b3e-fd8ce0493086\">\n",
              "    <div class=\"colab-df-container\">\n",
              "      <div>\n",
              "<style scoped>\n",
              "    .dataframe tbody tr th:only-of-type {\n",
              "        vertical-align: middle;\n",
              "    }\n",
              "\n",
              "    .dataframe tbody tr th {\n",
              "        vertical-align: top;\n",
              "    }\n",
              "\n",
              "    .dataframe thead th {\n",
              "        text-align: right;\n",
              "    }\n",
              "</style>\n",
              "<table border=\"1\" class=\"dataframe\">\n",
              "  <thead>\n",
              "    <tr style=\"text-align: right;\">\n",
              "      <th></th>\n",
              "      <th>1</th>\n",
              "      <th>2</th>\n",
              "      <th>3</th>\n",
              "      <th>4</th>\n",
              "      <th>5</th>\n",
              "      <th>6</th>\n",
              "    </tr>\n",
              "  </thead>\n",
              "  <tbody>\n",
              "    <tr>\n",
              "      <th>1</th>\n",
              "      <td>23.18</td>\n",
              "      <td>27.2720</td>\n",
              "      <td>426.0</td>\n",
              "      <td>721.250000</td>\n",
              "      <td>0.004793</td>\n",
              "      <td>1.0</td>\n",
              "    </tr>\n",
              "    <tr>\n",
              "      <th>2</th>\n",
              "      <td>23.15</td>\n",
              "      <td>27.2675</td>\n",
              "      <td>429.5</td>\n",
              "      <td>714.000000</td>\n",
              "      <td>0.004783</td>\n",
              "      <td>1.0</td>\n",
              "    </tr>\n",
              "    <tr>\n",
              "      <th>3</th>\n",
              "      <td>23.15</td>\n",
              "      <td>27.2450</td>\n",
              "      <td>426.0</td>\n",
              "      <td>713.500000</td>\n",
              "      <td>0.004779</td>\n",
              "      <td>1.0</td>\n",
              "    </tr>\n",
              "    <tr>\n",
              "      <th>4</th>\n",
              "      <td>23.15</td>\n",
              "      <td>27.2000</td>\n",
              "      <td>426.0</td>\n",
              "      <td>708.250000</td>\n",
              "      <td>0.004772</td>\n",
              "      <td>1.0</td>\n",
              "    </tr>\n",
              "    <tr>\n",
              "      <th>5</th>\n",
              "      <td>23.10</td>\n",
              "      <td>27.2000</td>\n",
              "      <td>426.0</td>\n",
              "      <td>704.500000</td>\n",
              "      <td>0.004757</td>\n",
              "      <td>1.0</td>\n",
              "    </tr>\n",
              "    <tr>\n",
              "      <th>...</th>\n",
              "      <td>...</td>\n",
              "      <td>...</td>\n",
              "      <td>...</td>\n",
              "      <td>...</td>\n",
              "      <td>...</td>\n",
              "      <td>...</td>\n",
              "    </tr>\n",
              "    <tr>\n",
              "      <th>8139</th>\n",
              "      <td>21.05</td>\n",
              "      <td>36.0975</td>\n",
              "      <td>433.0</td>\n",
              "      <td>787.250000</td>\n",
              "      <td>0.005579</td>\n",
              "      <td>1.0</td>\n",
              "    </tr>\n",
              "    <tr>\n",
              "      <th>8140</th>\n",
              "      <td>21.05</td>\n",
              "      <td>35.9950</td>\n",
              "      <td>433.0</td>\n",
              "      <td>789.500000</td>\n",
              "      <td>0.005563</td>\n",
              "      <td>1.0</td>\n",
              "    </tr>\n",
              "    <tr>\n",
              "      <th>8141</th>\n",
              "      <td>21.10</td>\n",
              "      <td>36.0950</td>\n",
              "      <td>433.0</td>\n",
              "      <td>798.500000</td>\n",
              "      <td>0.005596</td>\n",
              "      <td>1.0</td>\n",
              "    </tr>\n",
              "    <tr>\n",
              "      <th>8142</th>\n",
              "      <td>21.10</td>\n",
              "      <td>36.2600</td>\n",
              "      <td>433.0</td>\n",
              "      <td>820.333333</td>\n",
              "      <td>0.005621</td>\n",
              "      <td>1.0</td>\n",
              "    </tr>\n",
              "    <tr>\n",
              "      <th>8143</th>\n",
              "      <td>21.10</td>\n",
              "      <td>36.2000</td>\n",
              "      <td>447.0</td>\n",
              "      <td>821.000000</td>\n",
              "      <td>0.005612</td>\n",
              "      <td>1.0</td>\n",
              "    </tr>\n",
              "  </tbody>\n",
              "</table>\n",
              "<p>8143 rows × 6 columns</p>\n",
              "</div>\n",
              "      <button class=\"colab-df-convert\" onclick=\"convertToInteractive('df-3f9f081b-19c4-4c9c-8b3e-fd8ce0493086')\"\n",
              "              title=\"Convert this dataframe to an interactive table.\"\n",
              "              style=\"display:none;\">\n",
              "        \n",
              "  <svg xmlns=\"http://www.w3.org/2000/svg\" height=\"24px\"viewBox=\"0 0 24 24\"\n",
              "       width=\"24px\">\n",
              "    <path d=\"M0 0h24v24H0V0z\" fill=\"none\"/>\n",
              "    <path d=\"M18.56 5.44l.94 2.06.94-2.06 2.06-.94-2.06-.94-.94-2.06-.94 2.06-2.06.94zm-11 1L8.5 8.5l.94-2.06 2.06-.94-2.06-.94L8.5 2.5l-.94 2.06-2.06.94zm10 10l.94 2.06.94-2.06 2.06-.94-2.06-.94-.94-2.06-.94 2.06-2.06.94z\"/><path d=\"M17.41 7.96l-1.37-1.37c-.4-.4-.92-.59-1.43-.59-.52 0-1.04.2-1.43.59L10.3 9.45l-7.72 7.72c-.78.78-.78 2.05 0 2.83L4 21.41c.39.39.9.59 1.41.59.51 0 1.02-.2 1.41-.59l7.78-7.78 2.81-2.81c.8-.78.8-2.07 0-2.86zM5.41 20L4 18.59l7.72-7.72 1.47 1.35L5.41 20z\"/>\n",
              "  </svg>\n",
              "      </button>\n",
              "      \n",
              "  <style>\n",
              "    .colab-df-container {\n",
              "      display:flex;\n",
              "      flex-wrap:wrap;\n",
              "      gap: 12px;\n",
              "    }\n",
              "\n",
              "    .colab-df-convert {\n",
              "      background-color: #E8F0FE;\n",
              "      border: none;\n",
              "      border-radius: 50%;\n",
              "      cursor: pointer;\n",
              "      display: none;\n",
              "      fill: #1967D2;\n",
              "      height: 32px;\n",
              "      padding: 0 0 0 0;\n",
              "      width: 32px;\n",
              "    }\n",
              "\n",
              "    .colab-df-convert:hover {\n",
              "      background-color: #E2EBFA;\n",
              "      box-shadow: 0px 1px 2px rgba(60, 64, 67, 0.3), 0px 1px 3px 1px rgba(60, 64, 67, 0.15);\n",
              "      fill: #174EA6;\n",
              "    }\n",
              "\n",
              "    [theme=dark] .colab-df-convert {\n",
              "      background-color: #3B4455;\n",
              "      fill: #D2E3FC;\n",
              "    }\n",
              "\n",
              "    [theme=dark] .colab-df-convert:hover {\n",
              "      background-color: #434B5C;\n",
              "      box-shadow: 0px 1px 3px 1px rgba(0, 0, 0, 0.15);\n",
              "      filter: drop-shadow(0px 1px 2px rgba(0, 0, 0, 0.3));\n",
              "      fill: #FFFFFF;\n",
              "    }\n",
              "  </style>\n",
              "\n",
              "      <script>\n",
              "        const buttonEl =\n",
              "          document.querySelector('#df-3f9f081b-19c4-4c9c-8b3e-fd8ce0493086 button.colab-df-convert');\n",
              "        buttonEl.style.display =\n",
              "          google.colab.kernel.accessAllowed ? 'block' : 'none';\n",
              "\n",
              "        async function convertToInteractive(key) {\n",
              "          const element = document.querySelector('#df-3f9f081b-19c4-4c9c-8b3e-fd8ce0493086');\n",
              "          const dataTable =\n",
              "            await google.colab.kernel.invokeFunction('convertToInteractive',\n",
              "                                                     [key], {});\n",
              "          if (!dataTable) return;\n",
              "\n",
              "          const docLinkHtml = 'Like what you see? Visit the ' +\n",
              "            '<a target=\"_blank\" href=https://colab.research.google.com/notebooks/data_table.ipynb>data table notebook</a>'\n",
              "            + ' to learn more about interactive tables.';\n",
              "          element.innerHTML = '';\n",
              "          dataTable['output_type'] = 'display_data';\n",
              "          await google.colab.output.renderOutput(dataTable, element);\n",
              "          const docLink = document.createElement('div');\n",
              "          docLink.innerHTML = docLinkHtml;\n",
              "          element.appendChild(docLink);\n",
              "        }\n",
              "      </script>\n",
              "    </div>\n",
              "  </div>\n",
              "  "
            ]
          },
          "metadata": {},
          "execution_count": 34
        }
      ]
    },
    {
      "cell_type": "markdown",
      "source": [
        "Veamos la proporción de los valores:"
      ],
      "metadata": {
        "id": "MfYUR8IZgCXd"
      }
    },
    {
      "cell_type": "code",
      "source": [
        "total_valores2 = data2.shape[0]\n",
        "etiq_02 = data2[data2[6]==0].shape[0]\n",
        "etiq_12 = data2[data2[6]==1].shape[0]\n",
        "\n",
        "print(data2[data2[6]==1].shape[0]/8143 ,data2[data2[6]==0].shape[0]/8143)"
      ],
      "metadata": {
        "colab": {
          "base_uri": "https://localhost:8080/"
        },
        "id": "BQNsjTR_fFGz",
        "outputId": "7210cd23-0d4c-49b5-f823-d33d620bc429"
      },
      "execution_count": null,
      "outputs": [
        {
          "output_type": "stream",
          "name": "stdout",
          "text": [
            "0.2123296082524868 0.7876703917475132\n"
          ]
        }
      ]
    },
    {
      "cell_type": "markdown",
      "source": [
        "Vemos una proporción de 21% para la etiqueta 1 y del 79% para la etiqueta 0 o -1"
      ],
      "metadata": {
        "id": "xWSeEreOgFP-"
      }
    },
    {
      "cell_type": "code",
      "source": [
        "y2 = data2[6] # la ultima columna \n",
        "y2 = np.where(y2 <= 0, -1, 1) #se cambia la etiqueta 0 por -1 para poder aplicar el algoritmo\n",
        "data2.drop(columns = [6], inplace=True) # retiramos la columna de etiquetas\n",
        "X2 = data2\n",
        "X2"
      ],
      "metadata": {
        "id": "SLGgzA1OgD5M",
        "colab": {
          "base_uri": "https://localhost:8080/",
          "height": 423
        },
        "outputId": "0ba05171-9997-4800-ddb2-8d9f3cf3f9c1"
      },
      "execution_count": null,
      "outputs": [
        {
          "output_type": "execute_result",
          "data": {
            "text/plain": [
              "          1        2      3           4         5\n",
              "1     23.18  27.2720  426.0  721.250000  0.004793\n",
              "2     23.15  27.2675  429.5  714.000000  0.004783\n",
              "3     23.15  27.2450  426.0  713.500000  0.004779\n",
              "4     23.15  27.2000  426.0  708.250000  0.004772\n",
              "5     23.10  27.2000  426.0  704.500000  0.004757\n",
              "...     ...      ...    ...         ...       ...\n",
              "8139  21.05  36.0975  433.0  787.250000  0.005579\n",
              "8140  21.05  35.9950  433.0  789.500000  0.005563\n",
              "8141  21.10  36.0950  433.0  798.500000  0.005596\n",
              "8142  21.10  36.2600  433.0  820.333333  0.005621\n",
              "8143  21.10  36.2000  447.0  821.000000  0.005612\n",
              "\n",
              "[8143 rows x 5 columns]"
            ],
            "text/html": [
              "\n",
              "  <div id=\"df-094f3ed3-dac4-48a4-933a-311a866ce00f\">\n",
              "    <div class=\"colab-df-container\">\n",
              "      <div>\n",
              "<style scoped>\n",
              "    .dataframe tbody tr th:only-of-type {\n",
              "        vertical-align: middle;\n",
              "    }\n",
              "\n",
              "    .dataframe tbody tr th {\n",
              "        vertical-align: top;\n",
              "    }\n",
              "\n",
              "    .dataframe thead th {\n",
              "        text-align: right;\n",
              "    }\n",
              "</style>\n",
              "<table border=\"1\" class=\"dataframe\">\n",
              "  <thead>\n",
              "    <tr style=\"text-align: right;\">\n",
              "      <th></th>\n",
              "      <th>1</th>\n",
              "      <th>2</th>\n",
              "      <th>3</th>\n",
              "      <th>4</th>\n",
              "      <th>5</th>\n",
              "    </tr>\n",
              "  </thead>\n",
              "  <tbody>\n",
              "    <tr>\n",
              "      <th>1</th>\n",
              "      <td>23.18</td>\n",
              "      <td>27.2720</td>\n",
              "      <td>426.0</td>\n",
              "      <td>721.250000</td>\n",
              "      <td>0.004793</td>\n",
              "    </tr>\n",
              "    <tr>\n",
              "      <th>2</th>\n",
              "      <td>23.15</td>\n",
              "      <td>27.2675</td>\n",
              "      <td>429.5</td>\n",
              "      <td>714.000000</td>\n",
              "      <td>0.004783</td>\n",
              "    </tr>\n",
              "    <tr>\n",
              "      <th>3</th>\n",
              "      <td>23.15</td>\n",
              "      <td>27.2450</td>\n",
              "      <td>426.0</td>\n",
              "      <td>713.500000</td>\n",
              "      <td>0.004779</td>\n",
              "    </tr>\n",
              "    <tr>\n",
              "      <th>4</th>\n",
              "      <td>23.15</td>\n",
              "      <td>27.2000</td>\n",
              "      <td>426.0</td>\n",
              "      <td>708.250000</td>\n",
              "      <td>0.004772</td>\n",
              "    </tr>\n",
              "    <tr>\n",
              "      <th>5</th>\n",
              "      <td>23.10</td>\n",
              "      <td>27.2000</td>\n",
              "      <td>426.0</td>\n",
              "      <td>704.500000</td>\n",
              "      <td>0.004757</td>\n",
              "    </tr>\n",
              "    <tr>\n",
              "      <th>...</th>\n",
              "      <td>...</td>\n",
              "      <td>...</td>\n",
              "      <td>...</td>\n",
              "      <td>...</td>\n",
              "      <td>...</td>\n",
              "    </tr>\n",
              "    <tr>\n",
              "      <th>8139</th>\n",
              "      <td>21.05</td>\n",
              "      <td>36.0975</td>\n",
              "      <td>433.0</td>\n",
              "      <td>787.250000</td>\n",
              "      <td>0.005579</td>\n",
              "    </tr>\n",
              "    <tr>\n",
              "      <th>8140</th>\n",
              "      <td>21.05</td>\n",
              "      <td>35.9950</td>\n",
              "      <td>433.0</td>\n",
              "      <td>789.500000</td>\n",
              "      <td>0.005563</td>\n",
              "    </tr>\n",
              "    <tr>\n",
              "      <th>8141</th>\n",
              "      <td>21.10</td>\n",
              "      <td>36.0950</td>\n",
              "      <td>433.0</td>\n",
              "      <td>798.500000</td>\n",
              "      <td>0.005596</td>\n",
              "    </tr>\n",
              "    <tr>\n",
              "      <th>8142</th>\n",
              "      <td>21.10</td>\n",
              "      <td>36.2600</td>\n",
              "      <td>433.0</td>\n",
              "      <td>820.333333</td>\n",
              "      <td>0.005621</td>\n",
              "    </tr>\n",
              "    <tr>\n",
              "      <th>8143</th>\n",
              "      <td>21.10</td>\n",
              "      <td>36.2000</td>\n",
              "      <td>447.0</td>\n",
              "      <td>821.000000</td>\n",
              "      <td>0.005612</td>\n",
              "    </tr>\n",
              "  </tbody>\n",
              "</table>\n",
              "<p>8143 rows × 5 columns</p>\n",
              "</div>\n",
              "      <button class=\"colab-df-convert\" onclick=\"convertToInteractive('df-094f3ed3-dac4-48a4-933a-311a866ce00f')\"\n",
              "              title=\"Convert this dataframe to an interactive table.\"\n",
              "              style=\"display:none;\">\n",
              "        \n",
              "  <svg xmlns=\"http://www.w3.org/2000/svg\" height=\"24px\"viewBox=\"0 0 24 24\"\n",
              "       width=\"24px\">\n",
              "    <path d=\"M0 0h24v24H0V0z\" fill=\"none\"/>\n",
              "    <path d=\"M18.56 5.44l.94 2.06.94-2.06 2.06-.94-2.06-.94-.94-2.06-.94 2.06-2.06.94zm-11 1L8.5 8.5l.94-2.06 2.06-.94-2.06-.94L8.5 2.5l-.94 2.06-2.06.94zm10 10l.94 2.06.94-2.06 2.06-.94-2.06-.94-.94-2.06-.94 2.06-2.06.94z\"/><path d=\"M17.41 7.96l-1.37-1.37c-.4-.4-.92-.59-1.43-.59-.52 0-1.04.2-1.43.59L10.3 9.45l-7.72 7.72c-.78.78-.78 2.05 0 2.83L4 21.41c.39.39.9.59 1.41.59.51 0 1.02-.2 1.41-.59l7.78-7.78 2.81-2.81c.8-.78.8-2.07 0-2.86zM5.41 20L4 18.59l7.72-7.72 1.47 1.35L5.41 20z\"/>\n",
              "  </svg>\n",
              "      </button>\n",
              "      \n",
              "  <style>\n",
              "    .colab-df-container {\n",
              "      display:flex;\n",
              "      flex-wrap:wrap;\n",
              "      gap: 12px;\n",
              "    }\n",
              "\n",
              "    .colab-df-convert {\n",
              "      background-color: #E8F0FE;\n",
              "      border: none;\n",
              "      border-radius: 50%;\n",
              "      cursor: pointer;\n",
              "      display: none;\n",
              "      fill: #1967D2;\n",
              "      height: 32px;\n",
              "      padding: 0 0 0 0;\n",
              "      width: 32px;\n",
              "    }\n",
              "\n",
              "    .colab-df-convert:hover {\n",
              "      background-color: #E2EBFA;\n",
              "      box-shadow: 0px 1px 2px rgba(60, 64, 67, 0.3), 0px 1px 3px 1px rgba(60, 64, 67, 0.15);\n",
              "      fill: #174EA6;\n",
              "    }\n",
              "\n",
              "    [theme=dark] .colab-df-convert {\n",
              "      background-color: #3B4455;\n",
              "      fill: #D2E3FC;\n",
              "    }\n",
              "\n",
              "    [theme=dark] .colab-df-convert:hover {\n",
              "      background-color: #434B5C;\n",
              "      box-shadow: 0px 1px 3px 1px rgba(0, 0, 0, 0.15);\n",
              "      filter: drop-shadow(0px 1px 2px rgba(0, 0, 0, 0.3));\n",
              "      fill: #FFFFFF;\n",
              "    }\n",
              "  </style>\n",
              "\n",
              "      <script>\n",
              "        const buttonEl =\n",
              "          document.querySelector('#df-094f3ed3-dac4-48a4-933a-311a866ce00f button.colab-df-convert');\n",
              "        buttonEl.style.display =\n",
              "          google.colab.kernel.accessAllowed ? 'block' : 'none';\n",
              "\n",
              "        async function convertToInteractive(key) {\n",
              "          const element = document.querySelector('#df-094f3ed3-dac4-48a4-933a-311a866ce00f');\n",
              "          const dataTable =\n",
              "            await google.colab.kernel.invokeFunction('convertToInteractive',\n",
              "                                                     [key], {});\n",
              "          if (!dataTable) return;\n",
              "\n",
              "          const docLinkHtml = 'Like what you see? Visit the ' +\n",
              "            '<a target=\"_blank\" href=https://colab.research.google.com/notebooks/data_table.ipynb>data table notebook</a>'\n",
              "            + ' to learn more about interactive tables.';\n",
              "          element.innerHTML = '';\n",
              "          dataTable['output_type'] = 'display_data';\n",
              "          await google.colab.output.renderOutput(dataTable, element);\n",
              "          const docLink = document.createElement('div');\n",
              "          docLink.innerHTML = docLinkHtml;\n",
              "          element.appendChild(docLink);\n",
              "        }\n",
              "      </script>\n",
              "    </div>\n",
              "  </div>\n",
              "  "
            ]
          },
          "metadata": {},
          "execution_count": 17
        }
      ]
    },
    {
      "cell_type": "code",
      "source": [
        "X2 = [X2.loc[i].tolist() for i in X2.index]"
      ],
      "metadata": {
        "id": "gjkbU3dLbJ2t"
      },
      "execution_count": null,
      "outputs": []
    },
    {
      "cell_type": "code",
      "source": [
        "X_train2, X_test2, y_train2, y_test2 = train_test_split(X2,y2, test_size = 0.2, random_state= 159) \n",
        "clf2 = SVM()\n",
        "clf2.fit(X_train2, y_train2) \n",
        "predictions2 = clf2.predict(X_test2) \n",
        "\n",
        "accuracy(y_test2, predictions2)"
      ],
      "metadata": {
        "colab": {
          "base_uri": "https://localhost:8080/"
        },
        "id": "hu1imRzwfnoy",
        "outputId": "5786c2e8-3c46-4bad-f3b9-e9455f9b4718"
      },
      "execution_count": null,
      "outputs": [
        {
          "output_type": "execute_result",
          "data": {
            "text/plain": [
              "{'Acierto: ': 0.9613259668508287,\n",
              " 'Error relativo etiqueta 1 :': 0.7777777777777778,\n",
              " 'Error relativo  etiqueta -1 :': 0.2222222222222222,\n",
              " 'Error neto etiqueta 1 :': 49.0,\n",
              " 'Error neto etiqueta -1 :': 14.0}"
            ]
          },
          "metadata": {},
          "execution_count": 19
        }
      ]
    },
    {
      "cell_type": "markdown",
      "source": [
        "#### Logistic Regression"
      ],
      "metadata": {
        "id": "_ixGW5uIPyG7"
      }
    },
    {
      "cell_type": "code",
      "source": [
        "y_LG2 = y2\n",
        "X_LG2 = pd.DataFrame(X2)\n",
        "X_train_LG2, X_test_LG2, y_train_LG2, y_test_LG2 = train_test_split(X_LG2,y_LG2, test_size = 0.2, random_state= 159) \n",
        "clf_LG2 = LogisticRegression(random_state=0).fit(X_train_LG2, y_train_LG2)\n",
        "predictions_LG2 = clf_LG2.predict(X_test_LG2)\n",
        "accuracy(y_test_LG2 ,predictions_LG2)"
      ],
      "metadata": {
        "colab": {
          "base_uri": "https://localhost:8080/"
        },
        "id": "Qkfc5w3PP0ZA",
        "outputId": "083b3709-5704-400e-a1e3-b8bbe40aacad"
      },
      "execution_count": null,
      "outputs": [
        {
          "output_type": "execute_result",
          "data": {
            "text/plain": [
              "{'Acierto: ': 0.9883364027010436,\n",
              " 'Error relativo etiqueta 1 :': 0.21052631578947367,\n",
              " 'Error relativo  etiqueta -1 :': 0.7894736842105263,\n",
              " 'Error neto etiqueta 1 :': 4.0,\n",
              " 'Error neto etiqueta -1 :': 15.0}"
            ]
          },
          "metadata": {},
          "execution_count": 39
        }
      ]
    },
    {
      "cell_type": "markdown",
      "source": [
        "#### Decision Tree"
      ],
      "metadata": {
        "id": "XHUWqKkHSXEf"
      }
    },
    {
      "cell_type": "code",
      "source": [
        "y_T2 = y2\n",
        "X_T2 = pd.DataFrame(X2)\n",
        "X_train_T2, X_test_T2, y_train_T2, y_test_T2 = train_test_split(X_T2,y_T2, test_size = 0.2, random_state= 159) \n",
        "clf_T2 = DecisionTreeClassifier().fit(X_train_T2,y_train_T2)\n",
        "predictions_T2 = clf_T2.predict(X_test_T2)\n",
        "accuracy(y_test_T2, predictions_T2)"
      ],
      "metadata": {
        "colab": {
          "base_uri": "https://localhost:8080/"
        },
        "id": "a9hLcsuNSZFW",
        "outputId": "f4d319f0-2d0f-4edc-ab0d-b7163b066710"
      },
      "execution_count": null,
      "outputs": [
        {
          "output_type": "execute_result",
          "data": {
            "text/plain": [
              "{'Acierto: ': 0.992633517495396,\n",
              " 'Error relativo etiqueta 1 :': 0.5,\n",
              " 'Error relativo  etiqueta -1 :': 0.5,\n",
              " 'Error neto etiqueta 1 :': 6.0,\n",
              " 'Error neto etiqueta -1 :': 6.0}"
            ]
          },
          "metadata": {},
          "execution_count": 40
        }
      ]
    },
    {
      "cell_type": "markdown",
      "source": [
        "### Analisis de resultados"
      ],
      "metadata": {
        "id": "YK7I3ce4e75_"
      }
    },
    {
      "cell_type": "markdown",
      "source": [
        "\n",
        "Después de realizar el entreno se obtuvo un porcentaje de exito del 96% con SVM mientras que con los otros metodos fue alrededor del 99%. Podemos inferir que los conjuntos son linealmente separables alegando a la existencia de ruido dentro de la toma de datos. Por otro lado, la escongencia aleatoria podría verse afectada a la proporción de 21-79 de las etiquetas mencionada arriba. Esto  implicaría una escogencia no aleatoria. \n",
        "\n",
        "Con respecto a la generalización, un error del 4% es una buena cifra considerando lo mencionado anteriormente respecto al ruido en los datos, pero no  puede decirse que el algoritmo estaría en capacidad de clasificar correctamente vectores dada su proporción de la base de datos."
      ],
      "metadata": {
        "id": "CSVOinsUgUyK"
      }
    },
    {
      "cell_type": "code",
      "source": [],
      "metadata": {
        "id": "olyjm2SUg7JT"
      },
      "execution_count": null,
      "outputs": []
    }
  ]
}