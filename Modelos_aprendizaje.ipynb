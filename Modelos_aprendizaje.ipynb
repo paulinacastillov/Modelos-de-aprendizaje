{
  "cells": [
    {
      "attachments": {},
      "cell_type": "markdown",
      "metadata": {
        "id": "xrWvJ3AD98pA"
      },
      "source": [
        "# Modelos de parendizaje\n",
        " \n",
        "------\n",
        "Matemáticas para el aprendizaje de maquina\n",
        "\n",
        "Ana Paulina Castillo Velásquez\n",
        "\n",
        "30 de mayo 2023\n",
        "------\n",
        "\n"
      ]
    },
    {
      "attachments": {},
      "cell_type": "markdown",
      "metadata": {
        "id": "_MEqOuGfGTE3"
      },
      "source": [
        "## Resumen "
      ]
    },
    {
      "attachments": {},
      "cell_type": "markdown",
      "metadata": {
        "id": "FjgE2xSA-Xv_"
      },
      "source": [
        "En este cuaderno resolveremos un  problema de caracterización de datos a partir de una frontera de descición lineal con un vector soporte, siendo esto aprendizaje supervisado. Las etiquetas son binarias, es decir tendremos dos: 1,-1. \n",
        "\n",
        "La selección del espacio de hipótesis adecuado apra hacer clasificaciones binarias depende de varios factores como la disponibilidad de datos, particularmente se usará el enfoque basado en métodos de aprendizaje supervisado: es posible utilizar algoritmos de clasificación supervisada, como árboles de decisión, bosques aleatorios o máquinas de vectores de soporte (SVM), donde el espacio de hipótesis estaría compuesto por diferentes combinaciones de reglas y umbrales que separan las categorias, utilizando un conjunto de datos de entrenamiento etiquetado.\n",
        "\n",
        "Se trabajará con SVM y decision tree y los errores serán calculados con validación cruzada; todo esto a partir de la librería sklearn. Se usará un número de particiones igual a 5, esto dado los tiempo de compilamiento del codigo de manera esperimental, fue el número más alto en lograr generar resultados en todos los experiementos en un tiempo menor a 5 minutos."
      ]
    },
    {
      "cell_type": "code",
      "execution_count": 47,
      "metadata": {
        "id": "ORrB0H3cH3Pq"
      },
      "outputs": [],
      "source": [
        "import pandas as pd\n",
        "import numpy as np\n",
        "from sklearn.model_selection import train_test_split\n",
        "from sklearn import datasets\n",
        "import matplotlib.pyplot as plt\n",
        "from sklearn.model_selection import cross_val_score\n",
        "from sklearn import svm\n",
        "import pandas as pd\n",
        "from sklearn.tree import DecisionTreeClassifier"
      ]
    },
    {
      "cell_type": "code",
      "execution_count": 48,
      "metadata": {},
      "outputs": [],
      "source": [
        "numero_particiones = 5"
      ]
    },
    {
      "attachments": {},
      "cell_type": "markdown",
      "metadata": {
        "id": "9hj2RICsWQCn"
      },
      "source": [
        "## Bases de datos"
      ]
    },
    {
      "attachments": {},
      "cell_type": "markdown",
      "metadata": {
        "id": "sxwT_pp4KKPN"
      },
      "source": [
        "Importaremos primero la base de datos de la pág [Machine learning repository](https://archive.ics.uci.edu/ml/datasets/banknote+authentication) la cual hace la diferencia entre papel moneda verdadero y falso. se tomaron en cuenta los siguientes parámetros:\n",
        "\n",
        "1. Varianza de la imagen Wavelet transformada (continua)\n",
        "2. Asimetría de la imagen Wavelet transformada (continua)\n",
        "3. Curtosis de la imagen Wavelet Transformada (continua)\n",
        "4. Entropía de la imagen (continua)\n",
        "\n",
        "que corresponden a las columnas $0,1,2,3$ respectivamente y la columna $4$ que corresponde a la etiqueta de verdadero o falso."
      ]
    },
    {
      "cell_type": "code",
      "execution_count": 49,
      "metadata": {
        "colab": {
          "base_uri": "https://localhost:8080/",
          "height": 423
        },
        "id": "gVhEjtlg4H8V",
        "outputId": "d269cd3e-5061-40f6-b7e6-a5525b8e63c8"
      },
      "outputs": [
        {
          "data": {
            "text/html": [
              "<div>\n",
              "<style scoped>\n",
              "    .dataframe tbody tr th:only-of-type {\n",
              "        vertical-align: middle;\n",
              "    }\n",
              "\n",
              "    .dataframe tbody tr th {\n",
              "        vertical-align: top;\n",
              "    }\n",
              "\n",
              "    .dataframe thead th {\n",
              "        text-align: right;\n",
              "    }\n",
              "</style>\n",
              "<table border=\"1\" class=\"dataframe\">\n",
              "  <thead>\n",
              "    <tr style=\"text-align: right;\">\n",
              "      <th></th>\n",
              "      <th>0</th>\n",
              "      <th>1</th>\n",
              "      <th>2</th>\n",
              "      <th>3</th>\n",
              "      <th>4</th>\n",
              "    </tr>\n",
              "  </thead>\n",
              "  <tbody>\n",
              "    <tr>\n",
              "      <th>0</th>\n",
              "      <td>3.62160</td>\n",
              "      <td>8.66610</td>\n",
              "      <td>-2.8073</td>\n",
              "      <td>-0.44699</td>\n",
              "      <td>0</td>\n",
              "    </tr>\n",
              "    <tr>\n",
              "      <th>1</th>\n",
              "      <td>4.54590</td>\n",
              "      <td>8.16740</td>\n",
              "      <td>-2.4586</td>\n",
              "      <td>-1.46210</td>\n",
              "      <td>0</td>\n",
              "    </tr>\n",
              "    <tr>\n",
              "      <th>2</th>\n",
              "      <td>3.86600</td>\n",
              "      <td>-2.63830</td>\n",
              "      <td>1.9242</td>\n",
              "      <td>0.10645</td>\n",
              "      <td>0</td>\n",
              "    </tr>\n",
              "    <tr>\n",
              "      <th>3</th>\n",
              "      <td>3.45660</td>\n",
              "      <td>9.52280</td>\n",
              "      <td>-4.0112</td>\n",
              "      <td>-3.59440</td>\n",
              "      <td>0</td>\n",
              "    </tr>\n",
              "    <tr>\n",
              "      <th>4</th>\n",
              "      <td>0.32924</td>\n",
              "      <td>-4.45520</td>\n",
              "      <td>4.5718</td>\n",
              "      <td>-0.98880</td>\n",
              "      <td>0</td>\n",
              "    </tr>\n",
              "    <tr>\n",
              "      <th>...</th>\n",
              "      <td>...</td>\n",
              "      <td>...</td>\n",
              "      <td>...</td>\n",
              "      <td>...</td>\n",
              "      <td>...</td>\n",
              "    </tr>\n",
              "    <tr>\n",
              "      <th>1367</th>\n",
              "      <td>0.40614</td>\n",
              "      <td>1.34920</td>\n",
              "      <td>-1.4501</td>\n",
              "      <td>-0.55949</td>\n",
              "      <td>1</td>\n",
              "    </tr>\n",
              "    <tr>\n",
              "      <th>1368</th>\n",
              "      <td>-1.38870</td>\n",
              "      <td>-4.87730</td>\n",
              "      <td>6.4774</td>\n",
              "      <td>0.34179</td>\n",
              "      <td>1</td>\n",
              "    </tr>\n",
              "    <tr>\n",
              "      <th>1369</th>\n",
              "      <td>-3.75030</td>\n",
              "      <td>-13.45860</td>\n",
              "      <td>17.5932</td>\n",
              "      <td>-2.77710</td>\n",
              "      <td>1</td>\n",
              "    </tr>\n",
              "    <tr>\n",
              "      <th>1370</th>\n",
              "      <td>-3.56370</td>\n",
              "      <td>-8.38270</td>\n",
              "      <td>12.3930</td>\n",
              "      <td>-1.28230</td>\n",
              "      <td>1</td>\n",
              "    </tr>\n",
              "    <tr>\n",
              "      <th>1371</th>\n",
              "      <td>-2.54190</td>\n",
              "      <td>-0.65804</td>\n",
              "      <td>2.6842</td>\n",
              "      <td>1.19520</td>\n",
              "      <td>1</td>\n",
              "    </tr>\n",
              "  </tbody>\n",
              "</table>\n",
              "<p>1372 rows × 5 columns</p>\n",
              "</div>"
            ],
            "text/plain": [
              "            0         1        2        3  4\n",
              "0     3.62160   8.66610  -2.8073 -0.44699  0\n",
              "1     4.54590   8.16740  -2.4586 -1.46210  0\n",
              "2     3.86600  -2.63830   1.9242  0.10645  0\n",
              "3     3.45660   9.52280  -4.0112 -3.59440  0\n",
              "4     0.32924  -4.45520   4.5718 -0.98880  0\n",
              "...       ...       ...      ...      ... ..\n",
              "1367  0.40614   1.34920  -1.4501 -0.55949  1\n",
              "1368 -1.38870  -4.87730   6.4774  0.34179  1\n",
              "1369 -3.75030 -13.45860  17.5932 -2.77710  1\n",
              "1370 -3.56370  -8.38270  12.3930 -1.28230  1\n",
              "1371 -2.54190  -0.65804   2.6842  1.19520  1\n",
              "\n",
              "[1372 rows x 5 columns]"
            ]
          },
          "execution_count": 49,
          "metadata": {},
          "output_type": "execute_result"
        }
      ],
      "source": [
        "data = pd.read_csv('data_banknote_authentication.csv', sep=',', header=None) \n",
        "data"
      ]
    },
    {
      "cell_type": "code",
      "execution_count": 50,
      "metadata": {
        "id": "CrOMVLwzEo-K"
      },
      "outputs": [],
      "source": [
        "y = data[4] # la ultima columna \n",
        "y = np.where(y <= 0, -1, 1) #se cambia la etiqueta 0 por -1 para poder aplicar el algoritmo\n",
        "data.drop(columns = [4], inplace=True) # retiramos la columna de etiquetas\n",
        "X = data\n",
        "X = [X.loc[i].tolist() for i in X.index]\n"
      ]
    },
    {
      "attachments": {},
      "cell_type": "markdown",
      "metadata": {
        "id": "tSZNJCcmkvgb"
      },
      "source": [
        "#### SVM"
      ]
    },
    {
      "attachments": {},
      "cell_type": "markdown",
      "metadata": {},
      "source": [
        "Primero veremos como se comporta el método de SVM con validación cruzada. Ajustado el hyper parametro del kernel como lineal a modo de buscar una menor complejidad computacional, además en versiones anteriores se concluyó que la base de datos era linealmente separable por lo cual no es necesario complejizar el modelo."
      ]
    },
    {
      "cell_type": "code",
      "execution_count": 51,
      "metadata": {},
      "outputs": [
        {
          "data": {
            "text/plain": [
              "array([0.98909091, 0.98545455, 0.97810219, 1.        , 0.98905109])"
            ]
          },
          "execution_count": 51,
          "metadata": {},
          "output_type": "execute_result"
        }
      ],
      "source": [
        "\n",
        "clf = svm.SVC(kernel='linear', C=1)\n",
        "scores = cross_val_score(clf, X, y, cv=numero_particiones)\n",
        "scores\n"
      ]
    },
    {
      "cell_type": "code",
      "execution_count": 52,
      "metadata": {},
      "outputs": [
        {
          "data": {
            "text/plain": [
              "0.018733635026232976"
            ]
          },
          "execution_count": 52,
          "metadata": {},
          "output_type": "execute_result"
        }
      ],
      "source": [
        "accuracy = scores.mean()\n",
        "desviacion =  scores.std()\n",
        "error_generalizacion = 1 - accuracy + desviacion\n",
        "error_generalizacion"
      ]
    },
    {
      "attachments": {},
      "cell_type": "markdown",
      "metadata": {
        "id": "6ielz28RZjqi"
      },
      "source": [
        "Podemos asegurar qué el SVM bajo el problema estipulado tiene a lo más un error de generalización de 0.02 o 2%"
      ]
    },
    {
      "attachments": {},
      "cell_type": "markdown",
      "metadata": {
        "id": "vi6gJmAFki9F"
      },
      "source": [
        "#### Desicion Tree"
      ]
    },
    {
      "attachments": {},
      "cell_type": "markdown",
      "metadata": {},
      "source": [
        "Ahora, consideremos como se comporta el método de DT con validación cruzada. Ajustado el hyper parametro de profundidad a $4$ y hojas maximas por nodo a $2$ dado que es el número de variables usadas y la salida que esparamos es binaria. Esto con el fin de generar una interpretabilidad alta a partir de los valores esperados y el número de variables."
      ]
    },
    {
      "cell_type": "code",
      "execution_count": 59,
      "metadata": {
        "colab": {
          "base_uri": "https://localhost:8080/"
        },
        "id": "0XIrb7-PldF9",
        "outputId": "16cff43c-a4d9-4c7f-98f2-520ef3b65a8c"
      },
      "outputs": [
        {
          "data": {
            "text/plain": [
              "array([0.86181818, 0.82181818, 0.84671533, 0.87956204, 0.8540146 ])"
            ]
          },
          "execution_count": 59,
          "metadata": {},
          "output_type": "execute_result"
        }
      ],
      "source": [
        "\n",
        "clf_T= DecisionTreeClassifier(max_depth = 4, max_leaf_nodes=2, random_state=0)\n",
        "scores_T = cross_val_score(clf_T, X, y, cv = numero_particiones)\n",
        "scores_T\n"
      ]
    },
    {
      "cell_type": "code",
      "execution_count": 54,
      "metadata": {},
      "outputs": [
        {
          "data": {
            "text/plain": [
              "0.09919344274000999"
            ]
          },
          "execution_count": 54,
          "metadata": {},
          "output_type": "execute_result"
        }
      ],
      "source": [
        "\n",
        "accuracy_T = scores_T.mean()\n",
        "desviacion_T =  scores_T.std()\n",
        "error_generalizacion_T = 1 - accuracy_T + desviacion_T\n",
        "error_generalizacion_T"
      ]
    },
    {
      "attachments": {},
      "cell_type": "markdown",
      "metadata": {},
      "source": [
        "Este resultado muestra que existe a lo más un 10% de error de generalización en un sistema supremamente simple, lo cual es favorable considerando las limitaciones impuestas"
      ]
    },
    {
      "attachments": {},
      "cell_type": "markdown",
      "metadata": {
        "id": "QPxLapC70Qwy"
      },
      "source": [
        "## Base de datos2"
      ]
    },
    {
      "attachments": {},
      "cell_type": "markdown",
      "metadata": {
        "id": "Cp54gAWkci2p"
      },
      "source": [
        "Importaremos ahora la base de datos de la pág [Machine learning repository](https://archive.ics.uci.edu/ml/datasets/Occupancy+Detection+). Esta base de datos clasifica si un salón está ocupado o no con base a los siguientes  parámetros:\n",
        "\n",
        "1. Fecha, hora, minuto, milisegundo (Discreta)\n",
        "2. Temperatura en Celsius (Continua)\n",
        "3. Humedad relativa en % (Continua)\n",
        "4. Cantidad de luz (Continua)\n",
        "5. CO2, en ppm (Continua)\n",
        "6. Humedad (Continua)\n",
        "que corresponden a las columnas $0,1,2,3,4,5$ respectivamente y la columna $6$ que corresponde a la etiqueta de verdadero o falso."
      ]
    },
    {
      "attachments": {},
      "cell_type": "markdown",
      "metadata": {},
      "source": [
        "Los argumentos para los parametros de los modelos se mantienen."
      ]
    },
    {
      "attachments": {},
      "cell_type": "markdown",
      "metadata": {
        "id": "UfM0aMQ0O5BL"
      },
      "source": [
        "Importamos la base de datos "
      ]
    },
    {
      "cell_type": "code",
      "execution_count": 55,
      "metadata": {
        "colab": {
          "base_uri": "https://localhost:8080/",
          "height": 423
        },
        "id": "LDpXnY_iPuJ3",
        "outputId": "ada3ad3b-f595-464d-9523-965afe99bc20"
      },
      "outputs": [
        {
          "data": {
            "text/html": [
              "<div>\n",
              "<style scoped>\n",
              "    .dataframe tbody tr th:only-of-type {\n",
              "        vertical-align: middle;\n",
              "    }\n",
              "\n",
              "    .dataframe tbody tr th {\n",
              "        vertical-align: top;\n",
              "    }\n",
              "\n",
              "    .dataframe thead th {\n",
              "        text-align: right;\n",
              "    }\n",
              "</style>\n",
              "<table border=\"1\" class=\"dataframe\">\n",
              "  <thead>\n",
              "    <tr style=\"text-align: right;\">\n",
              "      <th></th>\n",
              "      <th>1</th>\n",
              "      <th>2</th>\n",
              "      <th>3</th>\n",
              "      <th>4</th>\n",
              "      <th>5</th>\n",
              "      <th>6</th>\n",
              "    </tr>\n",
              "  </thead>\n",
              "  <tbody>\n",
              "    <tr>\n",
              "      <th>1</th>\n",
              "      <td>23.18</td>\n",
              "      <td>27.2720</td>\n",
              "      <td>426.0</td>\n",
              "      <td>721.250000</td>\n",
              "      <td>0.004793</td>\n",
              "      <td>1.0</td>\n",
              "    </tr>\n",
              "    <tr>\n",
              "      <th>2</th>\n",
              "      <td>23.15</td>\n",
              "      <td>27.2675</td>\n",
              "      <td>429.5</td>\n",
              "      <td>714.000000</td>\n",
              "      <td>0.004783</td>\n",
              "      <td>1.0</td>\n",
              "    </tr>\n",
              "    <tr>\n",
              "      <th>3</th>\n",
              "      <td>23.15</td>\n",
              "      <td>27.2450</td>\n",
              "      <td>426.0</td>\n",
              "      <td>713.500000</td>\n",
              "      <td>0.004779</td>\n",
              "      <td>1.0</td>\n",
              "    </tr>\n",
              "    <tr>\n",
              "      <th>4</th>\n",
              "      <td>23.15</td>\n",
              "      <td>27.2000</td>\n",
              "      <td>426.0</td>\n",
              "      <td>708.250000</td>\n",
              "      <td>0.004772</td>\n",
              "      <td>1.0</td>\n",
              "    </tr>\n",
              "    <tr>\n",
              "      <th>5</th>\n",
              "      <td>23.10</td>\n",
              "      <td>27.2000</td>\n",
              "      <td>426.0</td>\n",
              "      <td>704.500000</td>\n",
              "      <td>0.004757</td>\n",
              "      <td>1.0</td>\n",
              "    </tr>\n",
              "    <tr>\n",
              "      <th>...</th>\n",
              "      <td>...</td>\n",
              "      <td>...</td>\n",
              "      <td>...</td>\n",
              "      <td>...</td>\n",
              "      <td>...</td>\n",
              "      <td>...</td>\n",
              "    </tr>\n",
              "    <tr>\n",
              "      <th>8139</th>\n",
              "      <td>21.05</td>\n",
              "      <td>36.0975</td>\n",
              "      <td>433.0</td>\n",
              "      <td>787.250000</td>\n",
              "      <td>0.005579</td>\n",
              "      <td>1.0</td>\n",
              "    </tr>\n",
              "    <tr>\n",
              "      <th>8140</th>\n",
              "      <td>21.05</td>\n",
              "      <td>35.9950</td>\n",
              "      <td>433.0</td>\n",
              "      <td>789.500000</td>\n",
              "      <td>0.005563</td>\n",
              "      <td>1.0</td>\n",
              "    </tr>\n",
              "    <tr>\n",
              "      <th>8141</th>\n",
              "      <td>21.10</td>\n",
              "      <td>36.0950</td>\n",
              "      <td>433.0</td>\n",
              "      <td>798.500000</td>\n",
              "      <td>0.005596</td>\n",
              "      <td>1.0</td>\n",
              "    </tr>\n",
              "    <tr>\n",
              "      <th>8142</th>\n",
              "      <td>21.10</td>\n",
              "      <td>36.2600</td>\n",
              "      <td>433.0</td>\n",
              "      <td>820.333333</td>\n",
              "      <td>0.005621</td>\n",
              "      <td>1.0</td>\n",
              "    </tr>\n",
              "    <tr>\n",
              "      <th>8143</th>\n",
              "      <td>21.10</td>\n",
              "      <td>36.2000</td>\n",
              "      <td>447.0</td>\n",
              "      <td>821.000000</td>\n",
              "      <td>0.005612</td>\n",
              "      <td>1.0</td>\n",
              "    </tr>\n",
              "  </tbody>\n",
              "</table>\n",
              "<p>8143 rows × 6 columns</p>\n",
              "</div>"
            ],
            "text/plain": [
              "          1        2      3           4         5    6\n",
              "1     23.18  27.2720  426.0  721.250000  0.004793  1.0\n",
              "2     23.15  27.2675  429.5  714.000000  0.004783  1.0\n",
              "3     23.15  27.2450  426.0  713.500000  0.004779  1.0\n",
              "4     23.15  27.2000  426.0  708.250000  0.004772  1.0\n",
              "5     23.10  27.2000  426.0  704.500000  0.004757  1.0\n",
              "...     ...      ...    ...         ...       ...  ...\n",
              "8139  21.05  36.0975  433.0  787.250000  0.005579  1.0\n",
              "8140  21.05  35.9950  433.0  789.500000  0.005563  1.0\n",
              "8141  21.10  36.0950  433.0  798.500000  0.005596  1.0\n",
              "8142  21.10  36.2600  433.0  820.333333  0.005621  1.0\n",
              "8143  21.10  36.2000  447.0  821.000000  0.005612  1.0\n",
              "\n",
              "[8143 rows x 6 columns]"
            ]
          },
          "execution_count": 55,
          "metadata": {},
          "output_type": "execute_result"
        }
      ],
      "source": [
        "data2 = pd.read_csv('datatraining.csv',  sep=',')\n",
        "data2.columns = list(range(data2.shape[1]))\n",
        "data2[0] = data2[0].apply(lambda x: int( (pd.to_datetime(x)).strftime(\"%Y%m%d%H%M%S\") ))\n",
        "data2.drop(columns = [0], inplace=True)\n",
        "data2.applymap(lambda x: float(x))\n"
      ]
    },
    {
      "attachments": {},
      "cell_type": "markdown",
      "metadata": {},
      "source": [
        "definimos los nuevos datos a incorporar a los modelos"
      ]
    },
    {
      "cell_type": "code",
      "execution_count": 56,
      "metadata": {
        "colab": {
          "base_uri": "https://localhost:8080/",
          "height": 423
        },
        "id": "SLGgzA1OgD5M",
        "outputId": "0ba05171-9997-4800-ddb2-8d9f3cf3f9c1"
      },
      "outputs": [],
      "source": [
        "y2 = data2[6] # la ultima columna \n",
        "y2 = np.where(y2 <= 0, -1, 1) #se cambia la etiqueta 0 por -1 para poder aplicar el algoritmo\n",
        "data2.drop(columns = [6], inplace=True) # retiramos la columna de etiquetas\n",
        "X2 = data2\n",
        "X2 = [X2.loc[i].tolist() for i in X2.index]"
      ]
    },
    {
      "attachments": {},
      "cell_type": "markdown",
      "metadata": {},
      "source": [
        "Veamos ahora SVM"
      ]
    },
    {
      "cell_type": "code",
      "execution_count": 57,
      "metadata": {},
      "outputs": [
        {
          "data": {
            "text/plain": [
              "0.053157063847130044"
            ]
          },
          "execution_count": 57,
          "metadata": {},
          "output_type": "execute_result"
        }
      ],
      "source": [
        "\n",
        "clf2 = svm.SVC( C=1)\n",
        "scores2 = cross_val_score(clf, X2, y2, cv=numero_particiones)\n",
        "accuracy2 = scores2.mean()\n",
        "desviacion2 =  scores2.std()\n",
        "error_generalizacion2 = 1 - accuracy2 + desviacion2\n",
        "error_generalizacion2"
      ]
    },
    {
      "attachments": {},
      "cell_type": "markdown",
      "metadata": {
        "id": "XHUWqKkHSXEf"
      },
      "source": [
        "#### Decision Tree"
      ]
    },
    {
      "cell_type": "code",
      "execution_count": 60,
      "metadata": {
        "colab": {
          "base_uri": "https://localhost:8080/"
        },
        "id": "a9hLcsuNSZFW",
        "outputId": "f4d319f0-2d0f-4edc-ab0d-b7163b066710"
      },
      "outputs": [
        {
          "data": {
            "text/plain": [
              "0.04706277421444057"
            ]
          },
          "execution_count": 60,
          "metadata": {},
          "output_type": "execute_result"
        }
      ],
      "source": [
        "clf_T2 = DecisionTreeClassifier(max_depth = 5, max_leaf_nodes=2, random_state=0)\n",
        "scores_T2 = cross_val_score(clf_T2, X2, y2, cv = numero_particiones)\n",
        "scores_T2\n",
        "accuracy_T2 = scores_T2.mean()\n",
        "desviacion_T2 =  scores_T2.std()\n",
        "error_generalizacion_T2 = 1 - accuracy_T2 + desviacion_T2\n",
        "error_generalizacion_T2"
      ]
    },
    {
      "attachments": {},
      "cell_type": "markdown",
      "metadata": {},
      "source": [
        "Aquí vemos errores de generalización de a lo más 5% aproximadamente en ambos modelos."
      ]
    },
    {
      "attachments": {},
      "cell_type": "markdown",
      "metadata": {},
      "source": []
    }
  ],
  "metadata": {
    "colab": {
      "collapsed_sections": [
        "_MEqOuGfGTE3"
      ],
      "provenance": []
    },
    "kernelspec": {
      "display_name": "Python 3",
      "name": "python3"
    },
    "language_info": {
      "codemirror_mode": {
        "name": "ipython",
        "version": 3
      },
      "file_extension": ".py",
      "mimetype": "text/x-python",
      "name": "python",
      "nbconvert_exporter": "python",
      "pygments_lexer": "ipython3",
      "version": "3.10.8"
    }
  },
  "nbformat": 4,
  "nbformat_minor": 0
}
